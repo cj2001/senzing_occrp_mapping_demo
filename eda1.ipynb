{
  "nbformat": 4,
  "nbformat_minor": 0,
  "metadata": {
    "colab": {
      "provenance": [],
      "gpuType": "T4",
      "authorship_tag": "ABX9TyOC4iftmhhJbuwYUyoaW221",
      "include_colab_link": true
    },
    "kernelspec": {
      "name": "python3",
      "display_name": "Python 3"
    },
    "language_info": {
      "name": "python"
    },
    "accelerator": "GPU"
  },
  "cells": [
    {
      "cell_type": "markdown",
      "metadata": {
        "id": "view-in-github",
        "colab_type": "text"
      },
      "source": [
        "<a href=\"https://colab.research.google.com/github/cj2001/senzing_occrp_mapping_demo/blob/main/eda1.ipynb\" target=\"_parent\"><img src=\"https://colab.research.google.com/assets/colab-badge.svg\" alt=\"Open In Colab\"/></a>"
      ]
    },
    {
      "cell_type": "markdown",
      "source": [
        "# From Raw Data to Resolved Identities: Transforming Your Data for Senzing Entity Resolution\n",
        "## Step-by-Step Strategies to Prepare Your Data for Accurate, Scalable Identity Matching\n",
        "#### Written by: Clair J. Sullivan (clair@clairsullivan.com)\n",
        "#### January 23, 2025\n",
        "\n",
        "## Introduction\n",
        "\n",
        "Entity resolution is all about untangling messy data to match records that refer to the same real-world entity, like spotting duplicates of a customer with slightly different names or addresses.  It’s the secret sauce for fixing data quality issues, linking information across datasets, and getting a clear, 360-degree view of your customers.  Senzing is a plug-and-play AI solution designed to make entity resolution fast, easy, and scalable.  It works in real-time to uncover connections in your data, giving you a clear view of every record linked to a person, company, or a multitude of other entity types through the use of a simple SDK-like interface.\n",
        "\n",
        "In my [previous blog post](https://senzing.com/knowledge-graphs-graph-rag/) I showed the importance of doing entity resolution to create entity-resolved knowledge graphs (ERKGs).  It was based on the [introduction to ERKGs](https://senzing.com/entity-resolved-knowledge-graphs/) by Paco Nathan.  While these two posts showed the importance of using entity resolution in creating knowledge graphs, they only briefly demonstrated how one maps real world data into Senzing for entity resolution.  In this post, I will show with real-world data how one would take a CSV file in Python and generate files that can be read and analyzed by Senzing.\n",
        "\n",
        "As usual, all data and code used in this blog post can be found on my [GitHub profile](https://github.com/cj2001/senzing_occrp_mapping_demo).\n"
      ],
      "metadata": {
        "id": "PwlL7bKX3Bj7"
      }
    },
    {
      "cell_type": "code",
      "execution_count": null,
      "metadata": {
        "colab": {
          "base_uri": "https://localhost:8080/"
        },
        "id": "geTtoY214Uen",
        "outputId": "c4164704-78a6-4377-f233-eaf339a163ab"
      },
      "outputs": [
        {
          "output_type": "stream",
          "name": "stdout",
          "text": [
            "Drive already mounted at /content/drive; to attempt to forcibly remount, call drive.mount(\"/content/drive\", force_remount=True).\n",
            "/content/drive/MyDrive/Senzing/data\n"
          ]
        }
      ],
      "source": [
        "# prompt: connect to a subfolder\n",
        "\n",
        "from google.colab import drive\n",
        "drive.mount('/content/drive')\n",
        "\n",
        "# Navigate to your subfolder\n",
        "import os\n",
        "os.chdir('/content/drive/MyDrive/Senzing/data')  # Replace 'YourSubfolder' with the actual path to your subfolder\n",
        "\n",
        "# Now you are connected to the subfolder and can perform operations within it\n",
        "print(os.getcwd())  # Print the current working directory to confirm"
      ]
    },
    {
      "cell_type": "code",
      "source": [
        "# prompt: print the contents of this subfolder\n",
        "\n",
        "for filename in os.listdir(os.getcwd()):\n",
        "    print(filename)"
      ],
      "metadata": {
        "colab": {
          "base_uri": "https://localhost:8080/"
        },
        "id": "-IF5hBOx4gfc",
        "outputId": "98d63a6a-cdb6-479e-d49c-58c09924bb4a"
      },
      "execution_count": null,
      "outputs": [
        {
          "output_type": "stream",
          "name": "stdout",
          "text": [
            "17000 OCCRP Data - Original Format.csv\n",
            "17000 Data Records on Open Sanctions Watch List.xlsx\n",
            "rapidsai-csp-utils\n",
            "cufile.log\n",
            "Company Insights and Comments.xlsx\n",
            "17000 OCCRP Data - Original Format.gsheet\n",
            "eda1.ipynb\n"
          ]
        }
      ]
    },
    {
      "cell_type": "code",
      "source": [
        "!nvidia-smi"
      ],
      "metadata": {
        "colab": {
          "base_uri": "https://localhost:8080/"
        },
        "id": "a1Dn0B8g48Ju",
        "outputId": "d1dcdaf2-d6f7-4df1-c3e9-20f70852c6ea"
      },
      "execution_count": null,
      "outputs": [
        {
          "output_type": "stream",
          "name": "stdout",
          "text": [
            "Mon Oct 28 16:52:33 2024       \n",
            "+---------------------------------------------------------------------------------------+\n",
            "| NVIDIA-SMI 535.104.05             Driver Version: 535.104.05   CUDA Version: 12.2     |\n",
            "|-----------------------------------------+----------------------+----------------------+\n",
            "| GPU  Name                 Persistence-M | Bus-Id        Disp.A | Volatile Uncorr. ECC |\n",
            "| Fan  Temp   Perf          Pwr:Usage/Cap |         Memory-Usage | GPU-Util  Compute M. |\n",
            "|                                         |                      |               MIG M. |\n",
            "|=========================================+======================+======================|\n",
            "|   0  Tesla T4                       Off | 00000000:00:04.0 Off |                    0 |\n",
            "| N/A   37C    P8               9W /  70W |      0MiB / 15360MiB |      0%      Default |\n",
            "|                                         |                      |                  N/A |\n",
            "+-----------------------------------------+----------------------+----------------------+\n",
            "                                                                                         \n",
            "+---------------------------------------------------------------------------------------+\n",
            "| Processes:                                                                            |\n",
            "|  GPU   GI   CI        PID   Type   Process name                            GPU Memory |\n",
            "|        ID   ID                                                             Usage      |\n",
            "|=======================================================================================|\n",
            "|  No running processes found                                                           |\n",
            "+---------------------------------------------------------------------------------------+\n"
          ]
        }
      ]
    },
    {
      "cell_type": "code",
      "source": [
        "# Colab warns and provides remediation steps if the GPUs is not compatible with RAPIDS.\n",
        "\n",
        "!git clone https://github.com/rapidsai/rapidsai-csp-utils.git\n",
        "!python rapidsai-csp-utils/colab/pip-install.py"
      ],
      "metadata": {
        "colab": {
          "base_uri": "https://localhost:8080/"
        },
        "collapsed": true,
        "id": "L19-daDf5QWW",
        "outputId": "d36bae3e-4967-4864-e0ae-ca8d2d85e3e0"
      },
      "execution_count": null,
      "outputs": [
        {
          "output_type": "stream",
          "name": "stdout",
          "text": [
            "fatal: destination path 'rapidsai-csp-utils' already exists and is not an empty directory.\n",
            "Installing RAPIDS remaining 24.6.* libraries\n",
            "Looking in indexes: https://pypi.org/simple, https://pypi.nvidia.com\n",
            "Requirement already satisfied: cudf-cu12==24.6.* in /usr/local/lib/python3.10/dist-packages (24.6.1)\n",
            "Requirement already satisfied: cuml-cu12==24.6.* in /usr/local/lib/python3.10/dist-packages (24.6.1)\n",
            "Requirement already satisfied: cugraph-cu12==24.6.* in /usr/local/lib/python3.10/dist-packages (24.6.1)\n",
            "Requirement already satisfied: cuspatial-cu12==24.6.* in /usr/local/lib/python3.10/dist-packages (24.6.0)\n",
            "Requirement already satisfied: cuproj-cu12==24.6.* in /usr/local/lib/python3.10/dist-packages (24.6.0)\n",
            "Requirement already satisfied: cuxfilter-cu12==24.6.* in /usr/local/lib/python3.10/dist-packages (24.6.0)\n",
            "Requirement already satisfied: cucim-cu12==24.6.* in /usr/local/lib/python3.10/dist-packages (24.6.0)\n",
            "Requirement already satisfied: pylibraft-cu12==24.6.* in /usr/local/lib/python3.10/dist-packages (24.6.0)\n",
            "Requirement already satisfied: raft-dask-cu12==24.6.* in /usr/local/lib/python3.10/dist-packages (24.6.0)\n",
            "Requirement already satisfied: nx-cugraph-cu12==24.6.* in /usr/local/lib/python3.10/dist-packages (24.6.1)\n",
            "Requirement already satisfied: aiohttp in /usr/local/lib/python3.10/dist-packages (3.10.10)\n",
            "Requirement already satisfied: cachetools in /usr/local/lib/python3.10/dist-packages (from cudf-cu12==24.6.*) (5.5.0)\n",
            "Collecting cuda-python<13.0a0,>=12.0 (from cudf-cu12==24.6.*)\n",
            "  Downloading cuda_python-12.6.0-cp310-cp310-manylinux_2_17_x86_64.manylinux2014_x86_64.whl.metadata (12 kB)\n",
            "Requirement already satisfied: cupy-cuda12x>=12.0.0 in /usr/local/lib/python3.10/dist-packages (from cudf-cu12==24.6.*) (12.2.0)\n",
            "Requirement already satisfied: fsspec>=0.6.0 in /usr/local/lib/python3.10/dist-packages (from cudf-cu12==24.6.*) (2024.6.1)\n",
            "Requirement already satisfied: numba>=0.57 in /usr/local/lib/python3.10/dist-packages (from cudf-cu12==24.6.*) (0.60.0)\n",
            "Requirement already satisfied: numpy<2.0a0,>=1.23 in /usr/local/lib/python3.10/dist-packages (from cudf-cu12==24.6.*) (1.26.4)\n",
            "Requirement already satisfied: nvtx>=0.2.1 in /usr/local/lib/python3.10/dist-packages (from cudf-cu12==24.6.*) (0.2.10)\n",
            "Requirement already satisfied: packaging in /usr/local/lib/python3.10/dist-packages (from cudf-cu12==24.6.*) (24.1)\n",
            "Requirement already satisfied: pandas<2.2.3dev0,>=2.0 in /usr/local/lib/python3.10/dist-packages (from cudf-cu12==24.6.*) (2.2.2)\n",
            "Requirement already satisfied: pynvjitlink-cu12 in /usr/local/lib/python3.10/dist-packages (from cudf-cu12==24.6.*) (0.3.0)\n",
            "Requirement already satisfied: pyarrow<16.2.0a0,>=16.1.0 in /usr/local/lib/python3.10/dist-packages (from cudf-cu12==24.6.*) (16.1.0)\n",
            "Requirement already satisfied: rich in /usr/local/lib/python3.10/dist-packages (from cudf-cu12==24.6.*) (13.9.3)\n",
            "Requirement already satisfied: rmm-cu12==24.6.* in /usr/local/lib/python3.10/dist-packages (from cudf-cu12==24.6.*) (24.6.0)\n",
            "Requirement already satisfied: typing_extensions>=4.0.0 in /usr/local/lib/python3.10/dist-packages (from cudf-cu12==24.6.*) (4.12.2)\n",
            "Requirement already satisfied: dask-cuda==24.6.* in /usr/local/lib/python3.10/dist-packages (from cuml-cu12==24.6.*) (24.6.0)\n",
            "Requirement already satisfied: dask-cudf-cu12==24.6.* in /usr/local/lib/python3.10/dist-packages (from cuml-cu12==24.6.*) (24.6.1)\n",
            "Requirement already satisfied: joblib>=0.11 in /usr/local/lib/python3.10/dist-packages (from cuml-cu12==24.6.*) (1.4.2)\n",
            "Requirement already satisfied: rapids-dask-dependency==24.6.* in /usr/local/lib/python3.10/dist-packages (from cuml-cu12==24.6.*) (24.6.0)\n",
            "Requirement already satisfied: scipy>=1.8.0 in /usr/local/lib/python3.10/dist-packages (from cuml-cu12==24.6.*) (1.13.1)\n",
            "Requirement already satisfied: treelite==4.1.2 in /usr/local/lib/python3.10/dist-packages (from cuml-cu12==24.6.*) (4.1.2)\n",
            "Requirement already satisfied: pylibcugraph-cu12==24.6.* in /usr/local/lib/python3.10/dist-packages (from cugraph-cu12==24.6.*) (24.6.1)\n",
            "Requirement already satisfied: ucx-py-cu12==0.38.* in /usr/local/lib/python3.10/dist-packages (from cugraph-cu12==24.6.*) (0.38.0)\n",
            "Requirement already satisfied: geopandas>=0.11.0 in /usr/local/lib/python3.10/dist-packages (from cuspatial-cu12==24.6.*) (1.0.1)\n",
            "Requirement already satisfied: bokeh>=3.1 in /usr/local/lib/python3.10/dist-packages (from cuxfilter-cu12==24.6.*) (3.4.3)\n",
            "Requirement already satisfied: datashader>=0.15 in /usr/local/lib/python3.10/dist-packages (from cuxfilter-cu12==24.6.*) (0.16.3)\n",
            "Requirement already satisfied: holoviews>=1.16.0 in /usr/local/lib/python3.10/dist-packages (from cuxfilter-cu12==24.6.*) (1.19.1)\n",
            "Requirement already satisfied: jupyter-server-proxy in /usr/local/lib/python3.10/dist-packages (from cuxfilter-cu12==24.6.*) (4.4.0)\n",
            "Requirement already satisfied: panel>=1.0 in /usr/local/lib/python3.10/dist-packages (from cuxfilter-cu12==24.6.*) (1.4.5)\n",
            "Requirement already satisfied: click in /usr/local/lib/python3.10/dist-packages (from cucim-cu12==24.6.*) (8.1.7)\n",
            "Requirement already satisfied: lazy-loader>=0.1 in /usr/local/lib/python3.10/dist-packages (from cucim-cu12==24.6.*) (0.4)\n",
            "Requirement already satisfied: scikit-image<0.24.0a0,>=0.19.0 in /usr/local/lib/python3.10/dist-packages (from cucim-cu12==24.6.*) (0.23.2)\n",
            "Requirement already satisfied: distributed-ucxx-cu12==0.38.* in /usr/local/lib/python3.10/dist-packages (from raft-dask-cu12==24.6.*) (0.38.0)\n",
            "Requirement already satisfied: networkx>=3.0 in /usr/local/lib/python3.10/dist-packages (from nx-cugraph-cu12==24.6.*) (3.4.2)\n",
            "Requirement already satisfied: pynvml<11.5,>=11.0.0 in /usr/local/lib/python3.10/dist-packages (from dask-cuda==24.6.*->cuml-cu12==24.6.*) (11.4.1)\n",
            "Requirement already satisfied: zict>=2.0.0 in /usr/local/lib/python3.10/dist-packages (from dask-cuda==24.6.*->cuml-cu12==24.6.*) (3.0.0)\n",
            "Requirement already satisfied: ucxx-cu12==0.38.* in /usr/local/lib/python3.10/dist-packages (from distributed-ucxx-cu12==0.38.*->raft-dask-cu12==24.6.*) (0.38.0)\n",
            "Requirement already satisfied: dask==2024.5.1 in /usr/local/lib/python3.10/dist-packages (from rapids-dask-dependency==24.6.*->cuml-cu12==24.6.*) (2024.5.1)\n",
            "Requirement already satisfied: distributed==2024.5.1 in /usr/local/lib/python3.10/dist-packages (from rapids-dask-dependency==24.6.*->cuml-cu12==24.6.*) (2024.5.1)\n",
            "Requirement already satisfied: dask-expr in /usr/local/lib/python3.10/dist-packages (from rapids-dask-dependency==24.6.*->cuml-cu12==24.6.*) (1.1.1)\n",
            "Requirement already satisfied: libucx-cu12<1.16,>=1.15.0 in /usr/local/lib/python3.10/dist-packages (from ucx-py-cu12==0.38.*->cugraph-cu12==24.6.*) (1.15.0.post1)\n",
            "Requirement already satisfied: cloudpickle>=1.5.0 in /usr/local/lib/python3.10/dist-packages (from dask==2024.5.1->rapids-dask-dependency==24.6.*->cuml-cu12==24.6.*) (3.1.0)\n",
            "Requirement already satisfied: partd>=1.2.0 in /usr/local/lib/python3.10/dist-packages (from dask==2024.5.1->rapids-dask-dependency==24.6.*->cuml-cu12==24.6.*) (1.4.2)\n",
            "Requirement already satisfied: pyyaml>=5.3.1 in /usr/local/lib/python3.10/dist-packages (from dask==2024.5.1->rapids-dask-dependency==24.6.*->cuml-cu12==24.6.*) (6.0.2)\n",
            "Requirement already satisfied: toolz>=0.10.0 in /usr/local/lib/python3.10/dist-packages (from dask==2024.5.1->rapids-dask-dependency==24.6.*->cuml-cu12==24.6.*) (0.12.1)\n",
            "Requirement already satisfied: importlib-metadata>=4.13.0 in /usr/local/lib/python3.10/dist-packages (from dask==2024.5.1->rapids-dask-dependency==24.6.*->cuml-cu12==24.6.*) (8.5.0)\n",
            "Requirement already satisfied: jinja2>=2.10.3 in /usr/local/lib/python3.10/dist-packages (from distributed==2024.5.1->rapids-dask-dependency==24.6.*->cuml-cu12==24.6.*) (3.1.4)\n",
            "Requirement already satisfied: locket>=1.0.0 in /usr/local/lib/python3.10/dist-packages (from distributed==2024.5.1->rapids-dask-dependency==24.6.*->cuml-cu12==24.6.*) (1.0.0)\n",
            "Requirement already satisfied: msgpack>=1.0.0 in /usr/local/lib/python3.10/dist-packages (from distributed==2024.5.1->rapids-dask-dependency==24.6.*->cuml-cu12==24.6.*) (1.1.0)\n",
            "Requirement already satisfied: psutil>=5.7.2 in /usr/local/lib/python3.10/dist-packages (from distributed==2024.5.1->rapids-dask-dependency==24.6.*->cuml-cu12==24.6.*) (5.9.5)\n",
            "Requirement already satisfied: sortedcontainers>=2.0.5 in /usr/local/lib/python3.10/dist-packages (from distributed==2024.5.1->rapids-dask-dependency==24.6.*->cuml-cu12==24.6.*) (2.4.0)\n",
            "Requirement already satisfied: tblib>=1.6.0 in /usr/local/lib/python3.10/dist-packages (from distributed==2024.5.1->rapids-dask-dependency==24.6.*->cuml-cu12==24.6.*) (3.0.0)\n",
            "Requirement already satisfied: tornado>=6.0.4 in /usr/local/lib/python3.10/dist-packages (from distributed==2024.5.1->rapids-dask-dependency==24.6.*->cuml-cu12==24.6.*) (6.3.3)\n",
            "Requirement already satisfied: urllib3>=1.24.3 in /usr/local/lib/python3.10/dist-packages (from distributed==2024.5.1->rapids-dask-dependency==24.6.*->cuml-cu12==24.6.*) (2.2.3)\n",
            "Requirement already satisfied: aiohappyeyeballs>=2.3.0 in /usr/local/lib/python3.10/dist-packages (from aiohttp) (2.4.3)\n",
            "Requirement already satisfied: aiosignal>=1.1.2 in /usr/local/lib/python3.10/dist-packages (from aiohttp) (1.3.1)\n",
            "Requirement already satisfied: attrs>=17.3.0 in /usr/local/lib/python3.10/dist-packages (from aiohttp) (24.2.0)\n",
            "Requirement already satisfied: frozenlist>=1.1.1 in /usr/local/lib/python3.10/dist-packages (from aiohttp) (1.4.1)\n",
            "Requirement already satisfied: multidict<7.0,>=4.5 in /usr/local/lib/python3.10/dist-packages (from aiohttp) (6.1.0)\n",
            "Requirement already satisfied: yarl<2.0,>=1.12.0 in /usr/local/lib/python3.10/dist-packages (from aiohttp) (1.16.0)\n",
            "Requirement already satisfied: async-timeout<5.0,>=4.0 in /usr/local/lib/python3.10/dist-packages (from aiohttp) (4.0.3)\n",
            "Requirement already satisfied: contourpy>=1.2 in /usr/local/lib/python3.10/dist-packages (from bokeh>=3.1->cuxfilter-cu12==24.6.*) (1.3.0)\n",
            "Requirement already satisfied: pillow>=7.1.0 in /usr/local/lib/python3.10/dist-packages (from bokeh>=3.1->cuxfilter-cu12==24.6.*) (10.4.0)\n",
            "Requirement already satisfied: xyzservices>=2021.09.1 in /usr/local/lib/python3.10/dist-packages (from bokeh>=3.1->cuxfilter-cu12==24.6.*) (2024.9.0)\n",
            "Requirement already satisfied: fastrlock>=0.5 in /usr/local/lib/python3.10/dist-packages (from cupy-cuda12x>=12.0.0->cudf-cu12==24.6.*) (0.8.2)\n",
            "Requirement already satisfied: colorcet in /usr/local/lib/python3.10/dist-packages (from datashader>=0.15->cuxfilter-cu12==24.6.*) (3.1.0)\n",
            "Requirement already satisfied: multipledispatch in /usr/local/lib/python3.10/dist-packages (from datashader>=0.15->cuxfilter-cu12==24.6.*) (1.0.0)\n",
            "Requirement already satisfied: param in /usr/local/lib/python3.10/dist-packages (from datashader>=0.15->cuxfilter-cu12==24.6.*) (2.1.1)\n",
            "Requirement already satisfied: pyct in /usr/local/lib/python3.10/dist-packages (from datashader>=0.15->cuxfilter-cu12==24.6.*) (0.5.0)\n",
            "Requirement already satisfied: requests in /usr/local/lib/python3.10/dist-packages (from datashader>=0.15->cuxfilter-cu12==24.6.*) (2.32.3)\n",
            "Requirement already satisfied: xarray in /usr/local/lib/python3.10/dist-packages (from datashader>=0.15->cuxfilter-cu12==24.6.*) (2024.9.0)\n",
            "Requirement already satisfied: pyogrio>=0.7.2 in /usr/local/lib/python3.10/dist-packages (from geopandas>=0.11.0->cuspatial-cu12==24.6.*) (0.10.0)\n",
            "Requirement already satisfied: pyproj>=3.3.0 in /usr/local/lib/python3.10/dist-packages (from geopandas>=0.11.0->cuspatial-cu12==24.6.*) (3.7.0)\n",
            "Requirement already satisfied: shapely>=2.0.0 in /usr/local/lib/python3.10/dist-packages (from geopandas>=0.11.0->cuspatial-cu12==24.6.*) (2.0.6)\n",
            "Requirement already satisfied: pyviz-comms>=2.1 in /usr/local/lib/python3.10/dist-packages (from holoviews>=1.16.0->cuxfilter-cu12==24.6.*) (3.0.3)\n",
            "Requirement already satisfied: llvmlite<0.44,>=0.43.0dev0 in /usr/local/lib/python3.10/dist-packages (from numba>=0.57->cudf-cu12==24.6.*) (0.43.0)\n",
            "Requirement already satisfied: python-dateutil>=2.8.2 in /usr/local/lib/python3.10/dist-packages (from pandas<2.2.3dev0,>=2.0->cudf-cu12==24.6.*) (2.8.2)\n",
            "Requirement already satisfied: pytz>=2020.1 in /usr/local/lib/python3.10/dist-packages (from pandas<2.2.3dev0,>=2.0->cudf-cu12==24.6.*) (2024.2)\n",
            "Requirement already satisfied: tzdata>=2022.7 in /usr/local/lib/python3.10/dist-packages (from pandas<2.2.3dev0,>=2.0->cudf-cu12==24.6.*) (2024.2)\n",
            "Requirement already satisfied: markdown in /usr/local/lib/python3.10/dist-packages (from panel>=1.0->cuxfilter-cu12==24.6.*) (3.7)\n",
            "Requirement already satisfied: markdown-it-py in /usr/local/lib/python3.10/dist-packages (from panel>=1.0->cuxfilter-cu12==24.6.*) (3.0.0)\n",
            "Requirement already satisfied: linkify-it-py in /usr/local/lib/python3.10/dist-packages (from panel>=1.0->cuxfilter-cu12==24.6.*) (2.0.3)\n",
            "Requirement already satisfied: mdit-py-plugins in /usr/local/lib/python3.10/dist-packages (from panel>=1.0->cuxfilter-cu12==24.6.*) (0.4.2)\n",
            "Requirement already satisfied: tqdm>=4.48.0 in /usr/local/lib/python3.10/dist-packages (from panel>=1.0->cuxfilter-cu12==24.6.*) (4.66.5)\n",
            "Requirement already satisfied: bleach in /usr/local/lib/python3.10/dist-packages (from panel>=1.0->cuxfilter-cu12==24.6.*) (6.1.0)\n",
            "Requirement already satisfied: imageio>=2.33 in /usr/local/lib/python3.10/dist-packages (from scikit-image<0.24.0a0,>=0.19.0->cucim-cu12==24.6.*) (2.35.1)\n",
            "Requirement already satisfied: tifffile>=2022.8.12 in /usr/local/lib/python3.10/dist-packages (from scikit-image<0.24.0a0,>=0.19.0->cucim-cu12==24.6.*) (2024.9.20)\n",
            "Requirement already satisfied: idna>=2.0 in /usr/local/lib/python3.10/dist-packages (from yarl<2.0,>=1.12.0->aiohttp) (3.10)\n",
            "Requirement already satisfied: propcache>=0.2.0 in /usr/local/lib/python3.10/dist-packages (from yarl<2.0,>=1.12.0->aiohttp) (0.2.0)\n",
            "Requirement already satisfied: jupyter-server>=1.24.0 in /usr/local/lib/python3.10/dist-packages (from jupyter-server-proxy->cuxfilter-cu12==24.6.*) (1.24.0)\n",
            "Requirement already satisfied: simpervisor>=1.0.0 in /usr/local/lib/python3.10/dist-packages (from jupyter-server-proxy->cuxfilter-cu12==24.6.*) (1.0.0)\n",
            "Requirement already satisfied: traitlets>=5.1.0 in /usr/local/lib/python3.10/dist-packages (from jupyter-server-proxy->cuxfilter-cu12==24.6.*) (5.7.1)\n",
            "Requirement already satisfied: pygments<3.0.0,>=2.13.0 in /usr/local/lib/python3.10/dist-packages (from rich->cudf-cu12==24.6.*) (2.18.0)\n",
            "Requirement already satisfied: MarkupSafe>=2.0 in /usr/local/lib/python3.10/dist-packages (from jinja2>=2.10.3->distributed==2024.5.1->rapids-dask-dependency==24.6.*->cuml-cu12==24.6.*) (3.0.2)\n",
            "Requirement already satisfied: anyio<4,>=3.1.0 in /usr/local/lib/python3.10/dist-packages (from jupyter-server>=1.24.0->jupyter-server-proxy->cuxfilter-cu12==24.6.*) (3.7.1)\n",
            "Requirement already satisfied: argon2-cffi in /usr/local/lib/python3.10/dist-packages (from jupyter-server>=1.24.0->jupyter-server-proxy->cuxfilter-cu12==24.6.*) (23.1.0)\n",
            "Requirement already satisfied: jupyter-client>=6.1.12 in /usr/local/lib/python3.10/dist-packages (from jupyter-server>=1.24.0->jupyter-server-proxy->cuxfilter-cu12==24.6.*) (6.1.12)\n",
            "Requirement already satisfied: jupyter-core!=5.0.*,>=4.12 in /usr/local/lib/python3.10/dist-packages (from jupyter-server>=1.24.0->jupyter-server-proxy->cuxfilter-cu12==24.6.*) (5.7.2)\n",
            "Requirement already satisfied: nbconvert>=6.4.4 in /usr/local/lib/python3.10/dist-packages (from jupyter-server>=1.24.0->jupyter-server-proxy->cuxfilter-cu12==24.6.*) (6.5.4)\n",
            "Requirement already satisfied: nbformat>=5.2.0 in /usr/local/lib/python3.10/dist-packages (from jupyter-server>=1.24.0->jupyter-server-proxy->cuxfilter-cu12==24.6.*) (5.10.4)\n",
            "Requirement already satisfied: prometheus-client in /usr/local/lib/python3.10/dist-packages (from jupyter-server>=1.24.0->jupyter-server-proxy->cuxfilter-cu12==24.6.*) (0.21.0)\n",
            "Requirement already satisfied: pyzmq>=17 in /usr/local/lib/python3.10/dist-packages (from jupyter-server>=1.24.0->jupyter-server-proxy->cuxfilter-cu12==24.6.*) (24.0.1)\n",
            "Requirement already satisfied: Send2Trash in /usr/local/lib/python3.10/dist-packages (from jupyter-server>=1.24.0->jupyter-server-proxy->cuxfilter-cu12==24.6.*) (1.8.3)\n",
            "Requirement already satisfied: terminado>=0.8.3 in /usr/local/lib/python3.10/dist-packages (from jupyter-server>=1.24.0->jupyter-server-proxy->cuxfilter-cu12==24.6.*) (0.18.1)\n",
            "Requirement already satisfied: websocket-client in /usr/local/lib/python3.10/dist-packages (from jupyter-server>=1.24.0->jupyter-server-proxy->cuxfilter-cu12==24.6.*) (1.8.0)\n",
            "Requirement already satisfied: mdurl~=0.1 in /usr/local/lib/python3.10/dist-packages (from markdown-it-py->panel>=1.0->cuxfilter-cu12==24.6.*) (0.1.2)\n",
            "Requirement already satisfied: certifi in /usr/local/lib/python3.10/dist-packages (from pyogrio>=0.7.2->geopandas>=0.11.0->cuspatial-cu12==24.6.*) (2024.8.30)\n",
            "Requirement already satisfied: six>=1.5 in /usr/local/lib/python3.10/dist-packages (from python-dateutil>=2.8.2->pandas<2.2.3dev0,>=2.0->cudf-cu12==24.6.*) (1.16.0)\n",
            "Requirement already satisfied: webencodings in /usr/local/lib/python3.10/dist-packages (from bleach->panel>=1.0->cuxfilter-cu12==24.6.*) (0.5.1)\n",
            "Requirement already satisfied: uc-micro-py in /usr/local/lib/python3.10/dist-packages (from linkify-it-py->panel>=1.0->cuxfilter-cu12==24.6.*) (1.0.3)\n",
            "Requirement already satisfied: charset-normalizer<4,>=2 in /usr/local/lib/python3.10/dist-packages (from requests->datashader>=0.15->cuxfilter-cu12==24.6.*) (3.4.0)\n",
            "Requirement already satisfied: sniffio>=1.1 in /usr/local/lib/python3.10/dist-packages (from anyio<4,>=3.1.0->jupyter-server>=1.24.0->jupyter-server-proxy->cuxfilter-cu12==24.6.*) (1.3.1)\n",
            "Requirement already satisfied: exceptiongroup in /usr/local/lib/python3.10/dist-packages (from anyio<4,>=3.1.0->jupyter-server>=1.24.0->jupyter-server-proxy->cuxfilter-cu12==24.6.*) (1.2.2)\n",
            "Requirement already satisfied: zipp>=3.20 in /usr/local/lib/python3.10/dist-packages (from importlib-metadata>=4.13.0->dask==2024.5.1->rapids-dask-dependency==24.6.*->cuml-cu12==24.6.*) (3.20.2)\n",
            "Requirement already satisfied: platformdirs>=2.5 in /usr/local/lib/python3.10/dist-packages (from jupyter-core!=5.0.*,>=4.12->jupyter-server>=1.24.0->jupyter-server-proxy->cuxfilter-cu12==24.6.*) (4.3.6)\n",
            "Requirement already satisfied: lxml in /usr/local/lib/python3.10/dist-packages (from nbconvert>=6.4.4->jupyter-server>=1.24.0->jupyter-server-proxy->cuxfilter-cu12==24.6.*) (4.9.4)\n",
            "Requirement already satisfied: beautifulsoup4 in /usr/local/lib/python3.10/dist-packages (from nbconvert>=6.4.4->jupyter-server>=1.24.0->jupyter-server-proxy->cuxfilter-cu12==24.6.*) (4.12.3)\n",
            "Requirement already satisfied: defusedxml in /usr/local/lib/python3.10/dist-packages (from nbconvert>=6.4.4->jupyter-server>=1.24.0->jupyter-server-proxy->cuxfilter-cu12==24.6.*) (0.7.1)\n",
            "Requirement already satisfied: entrypoints>=0.2.2 in /usr/local/lib/python3.10/dist-packages (from nbconvert>=6.4.4->jupyter-server>=1.24.0->jupyter-server-proxy->cuxfilter-cu12==24.6.*) (0.4)\n",
            "Requirement already satisfied: jupyterlab-pygments in /usr/local/lib/python3.10/dist-packages (from nbconvert>=6.4.4->jupyter-server>=1.24.0->jupyter-server-proxy->cuxfilter-cu12==24.6.*) (0.3.0)\n",
            "Requirement already satisfied: mistune<2,>=0.8.1 in /usr/local/lib/python3.10/dist-packages (from nbconvert>=6.4.4->jupyter-server>=1.24.0->jupyter-server-proxy->cuxfilter-cu12==24.6.*) (0.8.4)\n",
            "Requirement already satisfied: nbclient>=0.5.0 in /usr/local/lib/python3.10/dist-packages (from nbconvert>=6.4.4->jupyter-server>=1.24.0->jupyter-server-proxy->cuxfilter-cu12==24.6.*) (0.10.0)\n",
            "Requirement already satisfied: pandocfilters>=1.4.1 in /usr/local/lib/python3.10/dist-packages (from nbconvert>=6.4.4->jupyter-server>=1.24.0->jupyter-server-proxy->cuxfilter-cu12==24.6.*) (1.5.1)\n",
            "Requirement already satisfied: tinycss2 in /usr/local/lib/python3.10/dist-packages (from nbconvert>=6.4.4->jupyter-server>=1.24.0->jupyter-server-proxy->cuxfilter-cu12==24.6.*) (1.3.0)\n",
            "Requirement already satisfied: fastjsonschema>=2.15 in /usr/local/lib/python3.10/dist-packages (from nbformat>=5.2.0->jupyter-server>=1.24.0->jupyter-server-proxy->cuxfilter-cu12==24.6.*) (2.20.0)\n",
            "Requirement already satisfied: jsonschema>=2.6 in /usr/local/lib/python3.10/dist-packages (from nbformat>=5.2.0->jupyter-server>=1.24.0->jupyter-server-proxy->cuxfilter-cu12==24.6.*) (4.23.0)\n",
            "Requirement already satisfied: ptyprocess in /usr/local/lib/python3.10/dist-packages (from terminado>=0.8.3->jupyter-server>=1.24.0->jupyter-server-proxy->cuxfilter-cu12==24.6.*) (0.7.0)\n",
            "Requirement already satisfied: argon2-cffi-bindings in /usr/local/lib/python3.10/dist-packages (from argon2-cffi->jupyter-server>=1.24.0->jupyter-server-proxy->cuxfilter-cu12==24.6.*) (21.2.0)\n",
            "Requirement already satisfied: jsonschema-specifications>=2023.03.6 in /usr/local/lib/python3.10/dist-packages (from jsonschema>=2.6->nbformat>=5.2.0->jupyter-server>=1.24.0->jupyter-server-proxy->cuxfilter-cu12==24.6.*) (2024.10.1)\n",
            "Requirement already satisfied: referencing>=0.28.4 in /usr/local/lib/python3.10/dist-packages (from jsonschema>=2.6->nbformat>=5.2.0->jupyter-server>=1.24.0->jupyter-server-proxy->cuxfilter-cu12==24.6.*) (0.35.1)\n",
            "Requirement already satisfied: rpds-py>=0.7.1 in /usr/local/lib/python3.10/dist-packages (from jsonschema>=2.6->nbformat>=5.2.0->jupyter-server>=1.24.0->jupyter-server-proxy->cuxfilter-cu12==24.6.*) (0.20.0)\n",
            "Requirement already satisfied: cffi>=1.0.1 in /usr/local/lib/python3.10/dist-packages (from argon2-cffi-bindings->argon2-cffi->jupyter-server>=1.24.0->jupyter-server-proxy->cuxfilter-cu12==24.6.*) (1.17.1)\n",
            "Requirement already satisfied: soupsieve>1.2 in /usr/local/lib/python3.10/dist-packages (from beautifulsoup4->nbconvert>=6.4.4->jupyter-server>=1.24.0->jupyter-server-proxy->cuxfilter-cu12==24.6.*) (2.6)\n",
            "Requirement already satisfied: pycparser in /usr/local/lib/python3.10/dist-packages (from cffi>=1.0.1->argon2-cffi-bindings->argon2-cffi->jupyter-server>=1.24.0->jupyter-server-proxy->cuxfilter-cu12==24.6.*) (2.22)\n",
            "Downloading cuda_python-12.6.0-cp310-cp310-manylinux_2_17_x86_64.manylinux2014_x86_64.whl (24.2 MB)\n",
            "   ━━━━━━━━━━━━━━━━━━━━━━━━━━━━━━━━━━━━━━━━ 24.2/24.2 MB 73.4 MB/s eta 0:00:00\n",
            "Installing collected packages: cuda-python\n",
            "  Attempting uninstall: cuda-python\n",
            "    Found existing installation: cuda-python 11.8.3\n",
            "    Uninstalling cuda-python-11.8.3:\n",
            "      Successfully uninstalled cuda-python-11.8.3\n",
            "ERROR: pip's dependency resolver does not currently take into account all the packages that are installed. This behaviour is the source of the following dependency conflicts.\n",
            "pylibcudf-cu12 24.10.1 requires rmm-cu12==24.10.*, but you have rmm-cu12 24.6.0 which is incompatible.\n",
            "pylibraft-cu11 24.10.0 requires cuda-python<12.0a0,>=11.7.1, but you have cuda-python 12.6.0 which is incompatible.\n",
            "rmm-cu11 24.10.0 requires cuda-python<12.0a0,>=11.7.1, but you have cuda-python 12.6.0 which is incompatible.\n",
            "Successfully installed cuda-python-12.6.0\n",
            "\n",
            "        ***********************************************************************\n",
            "        The pip install of RAPIDS is complete.\n",
            "        \n",
            "        Please do not run any further installation from the conda based installation methods, as they may cause issues!\n",
            "        \n",
            "        Please ensure that you're pulling from the git repo to remain updated with the latest working install scripts.\n",
            "\n",
            "        Troubleshooting:\n",
            "            - If there is an installation failure, please check back on RAPIDSAI owned templates/notebooks to see how to update your personal files. \n",
            "            - If an installation failure persists when using the latest script, please make an issue on https://github.com/rapidsai-community/rapidsai-csp-utils\n",
            "        ***********************************************************************\n",
            "        \n"
          ]
        }
      ]
    },
    {
      "cell_type": "code",
      "source": [
        "import cudf"
      ],
      "metadata": {
        "id": "DitD66up7BmD",
        "colab": {
          "base_uri": "https://localhost:8080/"
        },
        "outputId": "103ae897-1f6b-49e6-98a1-ab2065b18059"
      },
      "execution_count": null,
      "outputs": [
        {
          "output_type": "stream",
          "name": "stderr",
          "text": [
            "/usr/local/lib/python3.10/dist-packages/cupy/_environment.py:540: UserWarning: \n",
            "--------------------------------------------------------------------------------\n",
            "\n",
            "  CuPy may not function correctly because multiple CuPy packages are installed\n",
            "  in your environment:\n",
            "\n",
            "    cupy-cuda11x, cupy-cuda12x\n",
            "\n",
            "  Follow these steps to resolve this issue:\n",
            "\n",
            "    1. For all packages listed above, run the following command to remove all\n",
            "       existing CuPy installations:\n",
            "\n",
            "         $ pip uninstall <package_name>\n",
            "\n",
            "      If you previously installed CuPy via conda, also run the following:\n",
            "\n",
            "         $ conda uninstall cupy\n",
            "\n",
            "    2. Install the appropriate CuPy package.\n",
            "       Refer to the Installation Guide for detailed instructions.\n",
            "\n",
            "         https://docs.cupy.dev/en/stable/install.html\n",
            "\n",
            "--------------------------------------------------------------------------------\n",
            "\n",
            "  warnings.warn(f'''\n"
          ]
        }
      ]
    },
    {
      "cell_type": "code",
      "source": [
        "occrp_df = cudf.read_csv('17000 OCCRP Data - Original Format.csv')\n",
        "occrp_df.head()"
      ],
      "metadata": {
        "id": "UeznxGGq7Hla"
      },
      "execution_count": null,
      "outputs": []
    },
    {
      "cell_type": "code",
      "source": [
        "import pandas as pd\n",
        "\n",
        "temp_df = pd.read_excel('17000 Data Records on Open Sanctions Watch List.xlsx')\n",
        "#print(temp_df.dtypes)\n",
        "temp_df = temp_df.astype(str)   # Because all columns are object with one as float64\n",
        "os_df = cudf.DataFrame.from_pandas(temp_df)\n",
        "os_df.head()"
      ],
      "metadata": {
        "colab": {
          "base_uri": "https://localhost:8080/",
          "height": 382
        },
        "id": "jE3yHpyu7jne",
        "outputId": "b022dcf6-33b9-48ed-db53-c7a15bdefbe1"
      },
      "execution_count": null,
      "outputs": [
        {
          "output_type": "execute_result",
          "data": {
            "text/plain": [
              "                      query_name query_country result_score  \\\n",
              "0                         UNIVAR            TR          0.9   \n",
              "1  DANSKE BANK A/S EESTI FILIAAL            EE          1.0   \n",
              "2  DANSKE BANK A/S EESTI FILIAAL            EE          1.0   \n",
              "3  DANSKE BANK A/S EESTI FILIAAL            EE         0.74   \n",
              "4     VELASCO INTERNATIONAL INC.            VG         0.76   \n",
              "\n",
              "                       result_name           result_dob result_country  \\\n",
              "0                    Necdet Ünüvar  1960-06-06 00:00:00             tr   \n",
              "1    DANSKE BANK A/S EESTI FILIAAL                  nan             ee   \n",
              "2    DANSKE BANK A/S EESTI FILIAAL                  nan             ee   \n",
              "3  AS CITADELE BANKA EESTI FILIAAL                  nan             ee   \n",
              "4       MANSACO INTERNATIONAL INC.                  nan          ch|vg   \n",
              "\n",
              "    result_risks                    result_sources  \\\n",
              "0       role.pep  everypolitician|wd_peps|wikidata   \n",
              "1       fin.bank                       iso9362_bic   \n",
              "2       fin.bank                       iso9362_bic   \n",
              "3       fin.bank                       iso9362_bic   \n",
              "4  corp.offshore            ext_icij_offshoreleaks   \n",
              "\n",
              "                                     result_criteria  \\\n",
              "0  person_name_jaro_winkler=0.91|person_name_phon...   \n",
              "1  name_fingerprint_levenshtein=1.00|name_literal...   \n",
              "2  name_fingerprint_levenshtein=1.00|name_literal...   \n",
              "3                  name_fingerprint_levenshtein=0.82   \n",
              "4                  name_fingerprint_levenshtein=0.85   \n",
              "\n",
              "                                          result_url  \n",
              "0   https://www.opensanctions.org/entities/Q1973627/  \n",
              "1  https://www.opensanctions.org/entities/bic-FOR...  \n",
              "2  https://www.opensanctions.org/entities/bic-FOR...  \n",
              "3  https://www.opensanctions.org/entities/NK-7Bba...  \n",
              "4  https://www.opensanctions.org/entities/icijol-...  "
            ],
            "text/html": [
              "<div>\n",
              "<style scoped>\n",
              "    .dataframe tbody tr th:only-of-type {\n",
              "        vertical-align: middle;\n",
              "    }\n",
              "\n",
              "    .dataframe tbody tr th {\n",
              "        vertical-align: top;\n",
              "    }\n",
              "\n",
              "    .dataframe thead th {\n",
              "        text-align: right;\n",
              "    }\n",
              "</style>\n",
              "<table border=\"1\" class=\"dataframe\">\n",
              "  <thead>\n",
              "    <tr style=\"text-align: right;\">\n",
              "      <th></th>\n",
              "      <th>query_name</th>\n",
              "      <th>query_country</th>\n",
              "      <th>result_score</th>\n",
              "      <th>result_name</th>\n",
              "      <th>result_dob</th>\n",
              "      <th>result_country</th>\n",
              "      <th>result_risks</th>\n",
              "      <th>result_sources</th>\n",
              "      <th>result_criteria</th>\n",
              "      <th>result_url</th>\n",
              "    </tr>\n",
              "  </thead>\n",
              "  <tbody>\n",
              "    <tr>\n",
              "      <th>0</th>\n",
              "      <td>UNIVAR</td>\n",
              "      <td>TR</td>\n",
              "      <td>0.9</td>\n",
              "      <td>Necdet Ünüvar</td>\n",
              "      <td>1960-06-06 00:00:00</td>\n",
              "      <td>tr</td>\n",
              "      <td>role.pep</td>\n",
              "      <td>everypolitician|wd_peps|wikidata</td>\n",
              "      <td>person_name_jaro_winkler=0.91|person_name_phon...</td>\n",
              "      <td>https://www.opensanctions.org/entities/Q1973627/</td>\n",
              "    </tr>\n",
              "    <tr>\n",
              "      <th>1</th>\n",
              "      <td>DANSKE BANK A/S EESTI FILIAAL</td>\n",
              "      <td>EE</td>\n",
              "      <td>1.0</td>\n",
              "      <td>DANSKE BANK A/S EESTI FILIAAL</td>\n",
              "      <td>nan</td>\n",
              "      <td>ee</td>\n",
              "      <td>fin.bank</td>\n",
              "      <td>iso9362_bic</td>\n",
              "      <td>name_fingerprint_levenshtein=1.00|name_literal...</td>\n",
              "      <td>https://www.opensanctions.org/entities/bic-FOR...</td>\n",
              "    </tr>\n",
              "    <tr>\n",
              "      <th>2</th>\n",
              "      <td>DANSKE BANK A/S EESTI FILIAAL</td>\n",
              "      <td>EE</td>\n",
              "      <td>1.0</td>\n",
              "      <td>DANSKE BANK A/S EESTI FILIAAL</td>\n",
              "      <td>nan</td>\n",
              "      <td>ee</td>\n",
              "      <td>fin.bank</td>\n",
              "      <td>iso9362_bic</td>\n",
              "      <td>name_fingerprint_levenshtein=1.00|name_literal...</td>\n",
              "      <td>https://www.opensanctions.org/entities/bic-FOR...</td>\n",
              "    </tr>\n",
              "    <tr>\n",
              "      <th>3</th>\n",
              "      <td>DANSKE BANK A/S EESTI FILIAAL</td>\n",
              "      <td>EE</td>\n",
              "      <td>0.74</td>\n",
              "      <td>AS CITADELE BANKA EESTI FILIAAL</td>\n",
              "      <td>nan</td>\n",
              "      <td>ee</td>\n",
              "      <td>fin.bank</td>\n",
              "      <td>iso9362_bic</td>\n",
              "      <td>name_fingerprint_levenshtein=0.82</td>\n",
              "      <td>https://www.opensanctions.org/entities/NK-7Bba...</td>\n",
              "    </tr>\n",
              "    <tr>\n",
              "      <th>4</th>\n",
              "      <td>VELASCO INTERNATIONAL INC.</td>\n",
              "      <td>VG</td>\n",
              "      <td>0.76</td>\n",
              "      <td>MANSACO INTERNATIONAL INC.</td>\n",
              "      <td>nan</td>\n",
              "      <td>ch|vg</td>\n",
              "      <td>corp.offshore</td>\n",
              "      <td>ext_icij_offshoreleaks</td>\n",
              "      <td>name_fingerprint_levenshtein=0.85</td>\n",
              "      <td>https://www.opensanctions.org/entities/icijol-...</td>\n",
              "    </tr>\n",
              "  </tbody>\n",
              "</table>\n",
              "</div>"
            ]
          },
          "metadata": {},
          "execution_count": 13
        }
      ]
    },
    {
      "cell_type": "code",
      "source": [
        "temp_df = pd.read_excel('Company Insights and Comments.xlsx')\n",
        "cic_df = cudf.DataFrame.from_pandas(temp_df)\n",
        "cic_df.head()"
      ],
      "metadata": {
        "colab": {
          "base_uri": "https://localhost:8080/",
          "height": 310
        },
        "id": "SjQxMDgM8UA4",
        "outputId": "16e9c116-98ea-42a6-f4a2-b152824e1bed"
      },
      "execution_count": null,
      "outputs": [
        {
          "output_type": "execute_result",
          "data": {
            "text/plain": [
              "            UK Company                                            Address  \\\n",
              "0    Hilux Services LP  Suite 1105 111 West George Street, Glasgow, G2...   \n",
              "1    Hilux Services LP  Suite 1105 111 West George Street, Glasgow, G2...   \n",
              "2  Polux Management LP  Suite 1098 111 West George Street, Glasgow, G2...   \n",
              "3  Polux Management LP  Suite 1098 111 West George Street, Glasgow, G2...   \n",
              "4     LCM Alliance LLP  175 Darkes Lane, Suite B, 2nd Floor, Potters B...   \n",
              "\n",
              "         Office Location Type  Status Ownership Type            Parent Name   \\\n",
              "0           Mail Box Location    <NA>         Officer  Solberg Business Ltd    \n",
              "1           Mail Box Location    <NA>         Officer   Akron Resources Corp   \n",
              "2           Mail Box Location    <NA>         Parent   Solberg Business Ltd    \n",
              "3           Mail Box Location    <NA>         Parent    Akron Resources Corp   \n",
              "4  Flex Office Space Location    <NA>         Officer           Astrocom AG    \n",
              "\n",
              "                                      Parnet Country  \\\n",
              "0                                                BVI   \n",
              "1                                                BVI   \n",
              "2                                                BVI   \n",
              "3                                                BVI   \n",
              "4  1st, Floor Dekk House, Zippora Street Providen...   \n",
              "\n",
              "  Jurisdiction Risk Ranking   \\\n",
              "0                  High Risk   \n",
              "1                Medium Risk   \n",
              "2                  High Risk   \n",
              "3                Medium Risk   \n",
              "4                Medium Risk   \n",
              "\n",
              "                                            Comments  \n",
              "0  Scottish limited partnerships (SLPs), structur...  \n",
              "1  The money was moved through the Glasgow-based ...  \n",
              "2  Hilux Services LP and Polux Management LP were...  \n",
              "3                                               <NA>  \n",
              "4  No one answers the door when you press the buz...  "
            ],
            "text/html": [
              "<div>\n",
              "<style scoped>\n",
              "    .dataframe tbody tr th:only-of-type {\n",
              "        vertical-align: middle;\n",
              "    }\n",
              "\n",
              "    .dataframe tbody tr th {\n",
              "        vertical-align: top;\n",
              "    }\n",
              "\n",
              "    .dataframe thead th {\n",
              "        text-align: right;\n",
              "    }\n",
              "</style>\n",
              "<table border=\"1\" class=\"dataframe\">\n",
              "  <thead>\n",
              "    <tr style=\"text-align: right;\">\n",
              "      <th></th>\n",
              "      <th>UK Company</th>\n",
              "      <th>Address</th>\n",
              "      <th>Office Location Type</th>\n",
              "      <th>Status</th>\n",
              "      <th>Ownership Type</th>\n",
              "      <th>Parent Name</th>\n",
              "      <th>Parnet Country</th>\n",
              "      <th>Jurisdiction Risk Ranking</th>\n",
              "      <th>Comments</th>\n",
              "    </tr>\n",
              "  </thead>\n",
              "  <tbody>\n",
              "    <tr>\n",
              "      <th>0</th>\n",
              "      <td>Hilux Services LP</td>\n",
              "      <td>Suite 1105 111 West George Street, Glasgow, G2...</td>\n",
              "      <td>Mail Box Location</td>\n",
              "      <td>&lt;NA&gt;</td>\n",
              "      <td>Officer</td>\n",
              "      <td>Solberg Business Ltd</td>\n",
              "      <td>BVI</td>\n",
              "      <td>High Risk</td>\n",
              "      <td>Scottish limited partnerships (SLPs), structur...</td>\n",
              "    </tr>\n",
              "    <tr>\n",
              "      <th>1</th>\n",
              "      <td>Hilux Services LP</td>\n",
              "      <td>Suite 1105 111 West George Street, Glasgow, G2...</td>\n",
              "      <td>Mail Box Location</td>\n",
              "      <td>&lt;NA&gt;</td>\n",
              "      <td>Officer</td>\n",
              "      <td>Akron Resources Corp</td>\n",
              "      <td>BVI</td>\n",
              "      <td>Medium Risk</td>\n",
              "      <td>The money was moved through the Glasgow-based ...</td>\n",
              "    </tr>\n",
              "    <tr>\n",
              "      <th>2</th>\n",
              "      <td>Polux Management LP</td>\n",
              "      <td>Suite 1098 111 West George Street, Glasgow, G2...</td>\n",
              "      <td>Mail Box Location</td>\n",
              "      <td>&lt;NA&gt;</td>\n",
              "      <td>Parent</td>\n",
              "      <td>Solberg Business Ltd</td>\n",
              "      <td>BVI</td>\n",
              "      <td>High Risk</td>\n",
              "      <td>Hilux Services LP and Polux Management LP were...</td>\n",
              "    </tr>\n",
              "    <tr>\n",
              "      <th>3</th>\n",
              "      <td>Polux Management LP</td>\n",
              "      <td>Suite 1098 111 West George Street, Glasgow, G2...</td>\n",
              "      <td>Mail Box Location</td>\n",
              "      <td>&lt;NA&gt;</td>\n",
              "      <td>Parent</td>\n",
              "      <td>Akron Resources Corp</td>\n",
              "      <td>BVI</td>\n",
              "      <td>Medium Risk</td>\n",
              "      <td>&lt;NA&gt;</td>\n",
              "    </tr>\n",
              "    <tr>\n",
              "      <th>4</th>\n",
              "      <td>LCM Alliance LLP</td>\n",
              "      <td>175 Darkes Lane, Suite B, 2nd Floor, Potters B...</td>\n",
              "      <td>Flex Office Space Location</td>\n",
              "      <td>&lt;NA&gt;</td>\n",
              "      <td>Officer</td>\n",
              "      <td>Astrocom AG</td>\n",
              "      <td>1st, Floor Dekk House, Zippora Street Providen...</td>\n",
              "      <td>Medium Risk</td>\n",
              "      <td>No one answers the door when you press the buz...</td>\n",
              "    </tr>\n",
              "  </tbody>\n",
              "</table>\n",
              "</div>"
            ]
          },
          "metadata": {},
          "execution_count": 17
        }
      ]
    },
    {
      "cell_type": "code",
      "source": [
        "import cugraph"
      ],
      "metadata": {
        "id": "ifj5OJ9j-Ioc"
      },
      "execution_count": null,
      "outputs": []
    },
    {
      "cell_type": "code",
      "source": [
        "occrp_df.dtypes"
      ],
      "metadata": {
        "colab": {
          "base_uri": "https://localhost:8080/",
          "height": 805
        },
        "id": "R3AGzVtH-_A_",
        "outputId": "38e4dc42-f5dc-4355-f003-ffd5587af3f8"
      },
      "execution_count": null,
      "outputs": [
        {
          "output_type": "execute_result",
          "data": {
            "text/plain": [
              "payer_name                   object\n",
              "payer_jurisdiction           object\n",
              "payer_account                object\n",
              "source_file                  object\n",
              "amount_orig                 float64\n",
              "id                            int64\n",
              "beneficiary_type             object\n",
              "beneficiary_core               bool\n",
              "amount_orig_currency         object\n",
              "beneficiary_name             object\n",
              "beneficiary_jurisdiction     object\n",
              "investigation                object\n",
              "beneficiary_bank_country     object\n",
              "beneficiary_name_norm        object\n",
              "payer_core                     bool\n",
              "beneficiary_account          object\n",
              "purpose                      object\n",
              "date                         object\n",
              "amount_usd                   object\n",
              "amount_eur                   object\n",
              "payer_type                   object\n",
              "payer_name_norm              object\n",
              "payer_bank_country           object\n",
              "dtype: object"
            ],
            "text/html": [
              "<div>\n",
              "<style scoped>\n",
              "    .dataframe tbody tr th:only-of-type {\n",
              "        vertical-align: middle;\n",
              "    }\n",
              "\n",
              "    .dataframe tbody tr th {\n",
              "        vertical-align: top;\n",
              "    }\n",
              "\n",
              "    .dataframe thead th {\n",
              "        text-align: right;\n",
              "    }\n",
              "</style>\n",
              "<table border=\"1\" class=\"dataframe\">\n",
              "  <thead>\n",
              "    <tr style=\"text-align: right;\">\n",
              "      <th></th>\n",
              "      <th>0</th>\n",
              "    </tr>\n",
              "  </thead>\n",
              "  <tbody>\n",
              "    <tr>\n",
              "      <th>payer_name</th>\n",
              "      <td>object</td>\n",
              "    </tr>\n",
              "    <tr>\n",
              "      <th>payer_jurisdiction</th>\n",
              "      <td>object</td>\n",
              "    </tr>\n",
              "    <tr>\n",
              "      <th>payer_account</th>\n",
              "      <td>object</td>\n",
              "    </tr>\n",
              "    <tr>\n",
              "      <th>source_file</th>\n",
              "      <td>object</td>\n",
              "    </tr>\n",
              "    <tr>\n",
              "      <th>amount_orig</th>\n",
              "      <td>float64</td>\n",
              "    </tr>\n",
              "    <tr>\n",
              "      <th>id</th>\n",
              "      <td>int64</td>\n",
              "    </tr>\n",
              "    <tr>\n",
              "      <th>beneficiary_type</th>\n",
              "      <td>object</td>\n",
              "    </tr>\n",
              "    <tr>\n",
              "      <th>beneficiary_core</th>\n",
              "      <td>bool</td>\n",
              "    </tr>\n",
              "    <tr>\n",
              "      <th>amount_orig_currency</th>\n",
              "      <td>object</td>\n",
              "    </tr>\n",
              "    <tr>\n",
              "      <th>beneficiary_name</th>\n",
              "      <td>object</td>\n",
              "    </tr>\n",
              "    <tr>\n",
              "      <th>beneficiary_jurisdiction</th>\n",
              "      <td>object</td>\n",
              "    </tr>\n",
              "    <tr>\n",
              "      <th>investigation</th>\n",
              "      <td>object</td>\n",
              "    </tr>\n",
              "    <tr>\n",
              "      <th>beneficiary_bank_country</th>\n",
              "      <td>object</td>\n",
              "    </tr>\n",
              "    <tr>\n",
              "      <th>beneficiary_name_norm</th>\n",
              "      <td>object</td>\n",
              "    </tr>\n",
              "    <tr>\n",
              "      <th>payer_core</th>\n",
              "      <td>bool</td>\n",
              "    </tr>\n",
              "    <tr>\n",
              "      <th>beneficiary_account</th>\n",
              "      <td>object</td>\n",
              "    </tr>\n",
              "    <tr>\n",
              "      <th>purpose</th>\n",
              "      <td>object</td>\n",
              "    </tr>\n",
              "    <tr>\n",
              "      <th>date</th>\n",
              "      <td>object</td>\n",
              "    </tr>\n",
              "    <tr>\n",
              "      <th>amount_usd</th>\n",
              "      <td>object</td>\n",
              "    </tr>\n",
              "    <tr>\n",
              "      <th>amount_eur</th>\n",
              "      <td>object</td>\n",
              "    </tr>\n",
              "    <tr>\n",
              "      <th>payer_type</th>\n",
              "      <td>object</td>\n",
              "    </tr>\n",
              "    <tr>\n",
              "      <th>payer_name_norm</th>\n",
              "      <td>object</td>\n",
              "    </tr>\n",
              "    <tr>\n",
              "      <th>payer_bank_country</th>\n",
              "      <td>object</td>\n",
              "    </tr>\n",
              "  </tbody>\n",
              "</table>\n",
              "</div><br><label><b>dtype:</b> object</label>"
            ]
          },
          "metadata": {},
          "execution_count": 20
        }
      ]
    },
    {
      "cell_type": "code",
      "source": [
        "oc_G = cugraph.Graph()\n",
        "oc_G.from_cudf_edgelist(occrp_df, source='payer_name', destination='beneficiary_name', weight='amount_orig')"
      ],
      "metadata": {
        "colab": {
          "base_uri": "https://localhost:8080/"
        },
        "id": "sqbO7r1eCR7E",
        "outputId": "e0736d1c-85e0-4041-b898-870d7f64ca3e"
      },
      "execution_count": null,
      "outputs": [
        {
          "output_type": "stream",
          "name": "stderr",
          "text": [
            "/usr/local/lib/python3.10/dist-packages/cugraph/structure/symmetrize.py:92: FutureWarning: Multi is deprecated and the removal of multi edges will no longer be supported from 'symmetrize'. Multi edges will be removed upon creation of graph instance.\n",
            "  warnings.warn(\n"
          ]
        }
      ]
    },
    {
      "cell_type": "code",
      "source": [
        "pagerank_scores = cugraph.pagerank(oc_G)\n",
        "type(pagerank_scores)"
      ],
      "metadata": {
        "colab": {
          "base_uri": "https://localhost:8080/",
          "height": 240
        },
        "id": "F6-MojFyC8bB",
        "outputId": "0642973b-48cc-41ee-9ed6-f23078016765"
      },
      "execution_count": null,
      "outputs": [
        {
          "output_type": "stream",
          "name": "stderr",
          "text": [
            "/usr/local/lib/python3.10/dist-packages/cugraph/link_analysis/pagerank.py:227: UserWarning: Pagerank expects the 'store_transposed' flag to be set to 'True' for optimal performance during the graph creation\n",
            "  warnings.warn(warning_msg, UserWarning)\n"
          ]
        },
        {
          "output_type": "execute_result",
          "data": {
            "text/plain": [
              "cudf.core.dataframe.DataFrame"
            ],
            "text/html": [
              "<div style=\"max-width:800px; border: 1px solid var(--colab-border-color);\"><style>\n",
              "      pre.function-repr-contents {\n",
              "        overflow-x: auto;\n",
              "        padding: 8px 12px;\n",
              "        max-height: 500px;\n",
              "      }\n",
              "\n",
              "      pre.function-repr-contents.function-repr-contents-collapsed {\n",
              "        cursor: pointer;\n",
              "        max-height: 100px;\n",
              "      }\n",
              "    </style>\n",
              "    <pre style=\"white-space: initial; background:\n",
              "         var(--colab-secondary-surface-color); padding: 8px 12px;\n",
              "         border-bottom: 1px solid var(--colab-border-color);\"><b>cudf.core.dataframe.DataFrame</b><br/>def __init__(data=None, index=None, columns=None, dtype=None, nan_as_null=no_default)</pre><pre class=\"function-repr-contents function-repr-contents-collapsed\" style=\"\"><a class=\"filepath\" style=\"display:none\" href=\"#\">/usr/local/lib/python3.10/dist-packages/cudf/core/dataframe.py</a>A GPU Dataframe object.\n",
              "\n",
              "Parameters\n",
              "----------\n",
              "data : array-like, Iterable, dict, or DataFrame.\n",
              "    Dict can contain Series, arrays, constants, or list-like objects.\n",
              "index : Index or array-like\n",
              "    Index to use for resulting frame. Will default to\n",
              "    RangeIndex if no indexing information part of input data and\n",
              "    no index provided.\n",
              "columns : Index or array-like\n",
              "    Column labels to use for resulting frame.\n",
              "    Will default to RangeIndex (0, 1, 2, …, n) if no column\n",
              "    labels are provided.\n",
              "dtype : dtype, default None\n",
              "    Data type to force. Only a single dtype is allowed.\n",
              "    If None, infer.\n",
              "nan_as_null : bool, Default True\n",
              "    If ``None``/``True``, converts ``np.nan`` values to\n",
              "    ``null`` values.\n",
              "    If ``False``, leaves ``np.nan`` values as is.\n",
              "\n",
              "Examples\n",
              "--------\n",
              "Build dataframe with ``__setitem__``:\n",
              "\n",
              "&gt;&gt;&gt; import cudf\n",
              "&gt;&gt;&gt; df = cudf.DataFrame()\n",
              "&gt;&gt;&gt; df[&#x27;key&#x27;] = [0, 1, 2, 3, 4]\n",
              "&gt;&gt;&gt; df[&#x27;val&#x27;] = [float(i + 10) for i in range(5)]  # insert column\n",
              "&gt;&gt;&gt; df\n",
              "   key   val\n",
              "0    0  10.0\n",
              "1    1  11.0\n",
              "2    2  12.0\n",
              "3    3  13.0\n",
              "4    4  14.0\n",
              "\n",
              "Build DataFrame via dict of columns:\n",
              "\n",
              "&gt;&gt;&gt; import numpy as np\n",
              "&gt;&gt;&gt; from datetime import datetime, timedelta\n",
              "&gt;&gt;&gt; t0 = datetime.strptime(&#x27;2018-10-07 12:00:00&#x27;, &#x27;%Y-%m-%d %H:%M:%S&#x27;)\n",
              "&gt;&gt;&gt; n = 5\n",
              "&gt;&gt;&gt; df = cudf.DataFrame({\n",
              "...     &#x27;id&#x27;: np.arange(n),\n",
              "...     &#x27;datetimes&#x27;: np.array(\n",
              "...     [(t0+ timedelta(seconds=x)) for x in range(n)])\n",
              "... })\n",
              "&gt;&gt;&gt; df\n",
              "    id            datetimes\n",
              "0    0  2018-10-07 12:00:00\n",
              "1    1  2018-10-07 12:00:01\n",
              "2    2  2018-10-07 12:00:02\n",
              "3    3  2018-10-07 12:00:03\n",
              "4    4  2018-10-07 12:00:04\n",
              "\n",
              "Build DataFrame via list of rows as tuples:\n",
              "\n",
              "&gt;&gt;&gt; df = cudf.DataFrame([\n",
              "...     (5, &quot;cats&quot;, &quot;jump&quot;, np.nan),\n",
              "...     (2, &quot;dogs&quot;, &quot;dig&quot;, 7.5),\n",
              "...     (3, &quot;cows&quot;, &quot;moo&quot;, -2.1, &quot;occasionally&quot;),\n",
              "... ])\n",
              "&gt;&gt;&gt; df\n",
              "   0     1     2     3             4\n",
              "0  5  cats  jump  &lt;NA&gt;          &lt;NA&gt;\n",
              "1  2  dogs   dig   7.5          &lt;NA&gt;\n",
              "2  3  cows   moo  -2.1  occasionally\n",
              "\n",
              "Convert from a Pandas DataFrame:\n",
              "\n",
              "&gt;&gt;&gt; import pandas as pd\n",
              "&gt;&gt;&gt; pdf = pd.DataFrame({&#x27;a&#x27;: [0, 1, 2, 3],&#x27;b&#x27;: [0.1, 0.2, None, 0.3]})\n",
              "&gt;&gt;&gt; pdf\n",
              "   a    b\n",
              "0  0  0.1\n",
              "1  1  0.2\n",
              "2  2  NaN\n",
              "3  3  0.3\n",
              "&gt;&gt;&gt; df = cudf.from_pandas(pdf)\n",
              "&gt;&gt;&gt; df\n",
              "   a     b\n",
              "0  0   0.1\n",
              "1  1   0.2\n",
              "2  2  &lt;NA&gt;\n",
              "3  3   0.3</pre>\n",
              "      <script>\n",
              "      if (google.colab.kernel.accessAllowed && google.colab.files && google.colab.files.view) {\n",
              "        for (const element of document.querySelectorAll('.filepath')) {\n",
              "          element.style.display = 'block'\n",
              "          element.onclick = (event) => {\n",
              "            event.preventDefault();\n",
              "            event.stopPropagation();\n",
              "            google.colab.files.view(element.textContent, 592);\n",
              "          };\n",
              "        }\n",
              "      }\n",
              "      for (const element of document.querySelectorAll('.function-repr-contents')) {\n",
              "        element.onclick = (event) => {\n",
              "          event.preventDefault();\n",
              "          event.stopPropagation();\n",
              "          element.classList.toggle('function-repr-contents-collapsed');\n",
              "        };\n",
              "      }\n",
              "      </script>\n",
              "      </div>"
            ]
          },
          "metadata": {},
          "execution_count": 24
        }
      ]
    },
    {
      "cell_type": "code",
      "source": [
        "# prompt: print pagerank_scores ordered by highest score\n",
        "\n",
        "# Sort pagerank_scores by 'pagerank' column in descending order\n",
        "sorted_pagerank_scores = pagerank_scores.sort_values('pagerank', ascending=False)\n",
        "\n",
        "# Print the sorted scores\n",
        "print(sorted_pagerank_scores)"
      ],
      "metadata": {
        "colab": {
          "base_uri": "https://localhost:8080/"
        },
        "id": "Qt1eWrvHDKEv",
        "outputId": "dc812e7f-3cac-47b9-d9ea-22b994620d70"
      },
      "execution_count": null,
      "outputs": [
        {
          "output_type": "stream",
          "name": "stdout",
          "text": [
            "      pagerank                          vertex\n",
            "2922  0.140979                LCM ALLIANCE LLP\n",
            "2920  0.134917             METASTAR INVEST LLP\n",
            "2921  0.130821               HILUX SERVICES LP\n",
            "2923  0.057363             POLUX MANAGEMENT LP\n",
            "2925  0.014787                 KG COMMERCE LLP\n",
            "...        ...                             ...\n",
            "1852 -0.001543                      OOO PRODOS\n",
            "1816 -0.001566  BAYBURT GROUP CONSTRUCTION LTD\n",
            "896  -0.005208                          MODIAR\n",
            "942  -0.005964                  SECURO LIMITED\n",
            "2905 -0.012555                     SECURO LTD.\n",
            "\n",
            "[3880 rows x 2 columns]\n"
          ]
        }
      ]
    },
    {
      "cell_type": "code",
      "source": [
        "occrp_df.shape, os_df.shape, cic_df.shape"
      ],
      "metadata": {
        "colab": {
          "base_uri": "https://localhost:8080/"
        },
        "id": "mHOecFaJDZJw",
        "outputId": "8aebf5e3-ac91-4808-d7ca-686de2f0eb46"
      },
      "execution_count": null,
      "outputs": [
        {
          "output_type": "execute_result",
          "data": {
            "text/plain": [
              "((16940, 23), (1183, 10), (740, 9))"
            ]
          },
          "metadata": {},
          "execution_count": 26
        }
      ]
    },
    {
      "cell_type": "code",
      "source": [
        "# prompt: get number of distinct values of occrp_df['beneficiary_type'] and occrp_df['id']\n",
        "\n",
        "print(f\"Number of distinct beneficiary_type values: {occrp_df['beneficiary_type'].nunique()}\")\n",
        "print(f\"Number of distinct id values: {occrp_df['id'].nunique()}\")"
      ],
      "metadata": {
        "colab": {
          "base_uri": "https://localhost:8080/"
        },
        "id": "awP63F-JEVwi",
        "outputId": "53f08df1-5a3b-41a6-ec2c-305200c2ea89"
      },
      "execution_count": null,
      "outputs": [
        {
          "output_type": "stream",
          "name": "stdout",
          "text": [
            "Number of distinct beneficiary_type values: 3\n",
            "Number of distinct id values: 16940\n"
          ]
        }
      ]
    },
    {
      "cell_type": "code",
      "source": [
        "# prompt: print distinct values of occrp_df['beneficiary_type']\n",
        "\n",
        "print(occrp_df['beneficiary_type'].unique())"
      ],
      "metadata": {
        "id": "GKlvVLhrFGm5",
        "outputId": "484d2e55-dc1e-443e-847f-d1af0afa1f04",
        "colab": {
          "base_uri": "https://localhost:8080/"
        }
      },
      "execution_count": null,
      "outputs": [
        {
          "output_type": "stream",
          "name": "stdout",
          "text": [
            "0    Company\n",
            "1     Person\n",
            "2    Invalid\n",
            "Name: beneficiary_type, dtype: object\n"
          ]
        }
      ]
    },
    {
      "cell_type": "code",
      "source": [],
      "metadata": {
        "id": "EJpXnCsiFMzo"
      },
      "execution_count": null,
      "outputs": []
    }
  ]
}